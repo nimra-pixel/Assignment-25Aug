{
 "cells": [
  {
   "cell_type": "code",
   "execution_count": 1,
   "id": "51b25461-0d8e-4151-b9b9-214efdc65a84",
   "metadata": {},
   "outputs": [
    {
     "name": "stdout",
     "output_type": "stream",
     "text": [
      "My name is nimra tariq\n"
     ]
    }
   ],
   "source": [
    "print(\"My name is nimra tariq\")\n"
   ]
  },
  {
   "cell_type": "code",
   "execution_count": 2,
   "id": "702ccc4e-9865-4c87-85a7-9df2d00aa0bc",
   "metadata": {},
   "outputs": [
    {
     "name": "stdout",
     "output_type": "stream",
     "text": [
      "Hello, Nimra!\n"
     ]
    }
   ],
   "source": [
    "name = \"Nimra\"\n",
    "greeting = \"Hello, \" + name + \"!\" #concatenation \n",
    "print(greeting)\n"
   ]
  },
  {
   "cell_type": "code",
   "execution_count": 3,
   "id": "f577738b-e74e-461f-be88-391622483a82",
   "metadata": {},
   "outputs": [
    {
     "name": "stdout",
     "output_type": "stream",
     "text": [
      "My name is Nimra and I am 25 years old.\n"
     ]
    }
   ],
   "source": [
    "name = \"Nimra\"\n",
    "age = 25\n",
    "print(f\"My name is {name} and I am {age} years old.\")\n"
   ]
  },
  {
   "cell_type": "code",
   "execution_count": 4,
   "id": "b999a163-b5f3-46ed-ba8f-5b27e9a4d99a",
   "metadata": {},
   "outputs": [
    {
     "name": "stdout",
     "output_type": "stream",
     "text": [
      "13\n",
      "7\n",
      "30\n",
      "3.3333333333333335\n",
      "1\n",
      "True\n",
      "False\n",
      "True\n"
     ]
    }
   ],
   "source": [
    "# Arithmetic Operators\n",
    "a = 10\n",
    "b = 3\n",
    "print(a + b)  # Addition\n",
    "print(a - b)  # Subtraction\n",
    "print(a * b)  # Multiplication\n",
    "print(a / b)  # Division\n",
    "print(a % b)  # Modulus\n",
    "\n",
    "# Comparison Operators\n",
    "print(a > b)   # Greater than\n",
    "print(a == b)  # Equal to\n",
    "print(a != b)  # Not equal to\n"
   ]
  },
  {
   "cell_type": "code",
   "execution_count": 11,
   "id": "1d7bfdfd-6a2b-40ea-91e0-c731eb9b930c",
   "metadata": {},
   "outputs": [
    {
     "name": "stdout",
     "output_type": "stream",
     "text": [
      "True\n",
      "False\n"
     ]
    }
   ],
   "source": [
    "condition1 = True\n",
    "condition2 = True\n",
    "condition3 = False\n",
    "\n",
    "# True and True == True\n",
    "result = condition1 and condition2\n",
    "print(result)  # Outputs: True\n",
    "\n",
    "# True and False == False\n",
    "result = condition1 and condition3\n",
    "print(result)  # Outputs: False\n"
   ]
  },
  {
   "cell_type": "code",
   "execution_count": 12,
   "id": "af7d4e69-8993-4dbb-ba0c-a1b1d456522a",
   "metadata": {},
   "outputs": [
    {
     "name": "stdout",
     "output_type": "stream",
     "text": [
      "True\n",
      "False\n"
     ]
    }
   ],
   "source": [
    "condition1 = True\n",
    "condition2 = False\n",
    "condition3 = False\n",
    "\n",
    "# True or False == True\n",
    "result = condition1 or condition2\n",
    "print(result)  # Outputs: True\n",
    "\n",
    "# False or False == False\n",
    "result = condition2 or condition3\n",
    "print(result)  # Outputs: False\n"
   ]
  },
  {
   "cell_type": "code",
   "execution_count": 13,
   "id": "62217978-02d6-48dd-9b34-514714d38254",
   "metadata": {},
   "outputs": [
    {
     "name": "stdout",
     "output_type": "stream",
     "text": [
      "False\n",
      "True\n"
     ]
    }
   ],
   "source": [
    "condition = True\n",
    "\n",
    "# not True == False\n",
    "result = not condition\n",
    "print(result)  # Outputs: False\n",
    "\n",
    "# not False == True\n",
    "result = not False\n",
    "print(result)  # Outputs: True\n"
   ]
  },
  {
   "cell_type": "code",
   "execution_count": 14,
   "id": "a0fe01a8-05b5-4b23-8603-b0de26a3e763",
   "metadata": {},
   "outputs": [
    {
     "name": "stdout",
     "output_type": "stream",
     "text": [
      "True\n"
     ]
    }
   ],
   "source": [
    "result = True and True and True\n",
    "print(result)  # Outputs: True\n"
   ]
  },
  {
   "cell_type": "code",
   "execution_count": 15,
   "id": "b15a7dc8-b63a-4cf0-b650-239976369010",
   "metadata": {},
   "outputs": [
    {
     "name": "stdout",
     "output_type": "stream",
     "text": [
      "True\n"
     ]
    }
   ],
   "source": [
    "result = True or False or False\n",
    "print(result)  # Outputs: True\n"
   ]
  },
  {
   "cell_type": "code",
   "execution_count": 8,
   "id": "885955d5-a4f0-4d4a-9af6-d3081aca3e65",
   "metadata": {},
   "outputs": [
    {
     "name": "stdout",
     "output_type": "stream",
     "text": [
      "['apple', 'banana', 'cherry']\n",
      "['apple', 'banana', 'cherry', 'orange']\n",
      "['apple', 'banana', 'cherry', 'orange', 'mango', 'melon']\n",
      "['apple', 'kiwi', 'banana', 'cherry', 'orange', 'mango', 'melon']\n",
      "['apple', 'kiwi', 'banana', 'cherry', 'orange', 'melon']\n",
      "['apple', 'kiwi', 'banana', 'cherry', 'orange']\n",
      "kiwi\n"
     ]
    }
   ],
   "source": [
    "\n",
    "fruits = [\"apple\", \"banana\", \"cherry\"]\n",
    "print(fruits)\n",
    "\n",
    "# Adding an element to a list\n",
    "fruits.append(\"orange\")\n",
    "print(fruits)\n",
    "fruits.extend([\"mango\",\"melon\"])\n",
    "print(fruits)\n",
    "fruits.insert(1,\"kiwi\")\n",
    "print(fruits)\n",
    "fruits.remove(\"mango\")\n",
    "print(fruits)\n",
    "fruits.pop()\n",
    "print(fruits)\n",
    "\n",
    "# Accessing elements\n",
    "print(fruits[1])  # Outputs 'banana'\n",
    "\n"
   ]
  },
  {
   "cell_type": "code",
   "execution_count": 9,
   "id": "2c230886-6c20-4c88-8592-1c3ce3f1a1c0",
   "metadata": {},
   "outputs": [
    {
     "name": "stdout",
     "output_type": "stream",
     "text": [
      "(10, 20)\n",
      "10\n"
     ]
    }
   ],
   "source": [
    "numbers = (10, 20)\n",
    "print(numbers)\n",
    "\n",
    "# Accessing elements\n",
    "print(numbers[0])  # Outputs '10'\n"
   ]
  },
  {
   "cell_type": "code",
   "execution_count": 10,
   "id": "ec26efa9-719b-4a07-a589-e39702c5fcfc",
   "metadata": {},
   "outputs": [
    {
     "name": "stdin",
     "output_type": "stream",
     "text": [
      "Enter your name:  Nimra Tariq\n"
     ]
    },
    {
     "name": "stdout",
     "output_type": "stream",
     "text": [
      "Hello, Nimra Tariq!\n"
     ]
    },
    {
     "name": "stdin",
     "output_type": "stream",
     "text": [
      "Enter your age:  25\n"
     ]
    },
    {
     "name": "stdout",
     "output_type": "stream",
     "text": [
      "You are 25 years old.\n"
     ]
    }
   ],
   "source": [
    "name = input(\"Enter your name: \")\n",
    "print(f\"Hello, {name}!\")\n",
    "\n",
    "age = int(input(\"Enter your age: \"))\n",
    "print(f\"You are {age} years old.\")\n"
   ]
  },
  {
   "cell_type": "code",
   "execution_count": 20,
   "id": "4d81c4aa-3b22-43e3-938f-f4ef9b34a96e",
   "metadata": {},
   "outputs": [
    {
     "name": "stdin",
     "output_type": "stream",
     "text": [
      "enter the temperature 35\n"
     ]
    },
    {
     "name": "stdout",
     "output_type": "stream",
     "text": [
      "Pleasant Day\n",
      "Welcome\n"
     ]
    }
   ],
   "source": [
    "temp = input(\"enter the temperature\")\n",
    "temp = float(temp)\n",
    "if temp > 35:\n",
    "    print('Hot Day')\n",
    "elif temp >= 20  and temp <= 35:\n",
    "    print('Pleasant Day')\n",
    "else:\n",
    "    print('Cold Day')\n",
    "print('Welcome')"
   ]
  },
  {
   "cell_type": "code",
   "execution_count": 21,
   "id": "d4248e7c-9d13-402b-adaf-effe42979da7",
   "metadata": {},
   "outputs": [
    {
     "name": "stdin",
     "output_type": "stream",
     "text": [
      "Enter your name 56\n"
     ]
    },
    {
     "name": "stdout",
     "output_type": "stream",
     "text": [
      "Pass\n",
      "Welcome\n"
     ]
    }
   ],
   "source": [
    "marks: int = int(input('Enter your name'))\n",
    "if marks >= 33:\n",
    "    print('Pass')\n",
    "else:\n",
    "    print('Failed')\n",
    "\n",
    "print('Welcome')"
   ]
  },
  {
   "cell_type": "code",
   "execution_count": 22,
   "id": "a163e3bf-9b97-4d2a-a64a-4111c9af0f05",
   "metadata": {},
   "outputs": [
    {
     "name": "stdout",
     "output_type": "stream",
     "text": [
      "ayesha\n",
      "ali\n",
      "usman\n",
      "mehreen\n"
     ]
    }
   ],
   "source": [
    "students = [\"ayesha\",\"ali\",\"usman\",\"mehreen\"]\n",
    "for student in students:\n",
    "    print(student)"
   ]
  },
  {
   "cell_type": "code",
   "execution_count": null,
   "id": "cef1af69-1bb9-45fd-b6ca-852ef1109c26",
   "metadata": {},
   "outputs": [],
   "source": []
  }
 ],
 "metadata": {
  "kernelspec": {
   "display_name": "Python 3 (ipykernel)",
   "language": "python",
   "name": "python3"
  },
  "language_info": {
   "codemirror_mode": {
    "name": "ipython",
    "version": 3
   },
   "file_extension": ".py",
   "mimetype": "text/x-python",
   "name": "python",
   "nbconvert_exporter": "python",
   "pygments_lexer": "ipython3",
   "version": "3.12.3"
  }
 },
 "nbformat": 4,
 "nbformat_minor": 5
}
